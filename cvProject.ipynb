{
  "cells": [
    {
      "cell_type": "markdown",
      "metadata": {
        "id": "tpbFslhiOo01"
      },
      "source": [
        "### Human Detection Using Deeplearning"
      ]
    },
    {
      "cell_type": "code",
      "execution_count": 37,
      "metadata": {
        "id": "BgiGoIVQ6GNH"
      },
      "outputs": [],
      "source": [
        "import torch\n",
        "from torch import nn\n",
        "import torchvision\n",
        "from torchvision import datasets\n",
        "from torchvision import transforms\n",
        "from torchvision.transforms import ToTensor\n",
        "from torch.utils.data import DataLoader\n",
        "from torchvision.io.image import ImageReadMode\n",
        "import matplotlib.pyplot as plt\n",
        "import warnings\n",
        "warnings.simplefilter(action='ignore', category=UserWarning)"
      ]
    },
    {
      "cell_type": "code",
      "execution_count": 2,
      "metadata": {
        "id": "VHz6oK9a6NNp"
      },
      "outputs": [],
      "source": [
        "test_data_path = \"data\\\\test\"\n",
        "train_data_path = \"data\\\\train\""
      ]
    },
    {
      "cell_type": "markdown",
      "metadata": {
        "id": "2PsH5KLfV9NX"
      },
      "source": [
        "* Setting device agnostic code"
      ]
    },
    {
      "cell_type": "code",
      "execution_count": 3,
      "metadata": {
        "id": "KpcTQGa4PHhj"
      },
      "outputs": [],
      "source": [
        "device = \"cuda\" if torch.cuda.is_available() else \"cpu\""
      ]
    },
    {
      "cell_type": "markdown",
      "metadata": {
        "id": "xJKcn5QPWRKs"
      },
      "source": [
        "### Transform Data\n",
        "1. Resize the images to 256x256.\n",
        "2. Flip images randomly on the horizontal.\n",
        "3. Turn our images into tensors."
      ]
    },
    {
      "cell_type": "code",
      "execution_count": 4,
      "metadata": {
        "id": "OUFwUecz6PtU"
      },
      "outputs": [],
      "source": [
        "train_transform = transforms.Compose([\n",
        "    transforms.Resize(size=(256,256)),\n",
        "    transforms.RandomHorizontalFlip(p=0.5),\n",
        "    transforms.ToTensor()\n",
        "])\n",
        "\n",
        "test_transform = transforms.Compose([\n",
        "    transforms.Resize(size=(256,256)),\n",
        "    transforms.ToTensor()\n",
        "])"
      ]
    },
    {
      "cell_type": "markdown",
      "metadata": {
        "id": "bozu_fTRXVog"
      },
      "source": [
        "### Load our images"
      ]
    },
    {
      "cell_type": "code",
      "execution_count": 5,
      "metadata": {
        "id": "3jFXzLDV6RTi"
      },
      "outputs": [],
      "source": [
        "train_data = datasets.ImageFolder(root=train_data_path, # target folder of images\n",
        "                                  transform=train_transform, # transforms to perform on data (images)\n",
        "                                  target_transform=None)\n",
        "\n",
        "test_data = datasets.ImageFolder(root=test_data_path, # target folder of images\n",
        "                                  transform=test_transform, # transforms to perform on data (images)\n",
        "                                  target_transform=None)"
      ]
    },
    {
      "cell_type": "code",
      "execution_count": 6,
      "metadata": {
        "colab": {
          "base_uri": "https://localhost:8080/"
        },
        "id": "KTEZJV2a6UHR",
        "outputId": "8d618369-b22b-4450-f43c-11808f846ee1"
      },
      "outputs": [
        {
          "data": {
            "text/plain": [
              "['human', 'nonhuman']"
            ]
          },
          "execution_count": 6,
          "metadata": {},
          "output_type": "execute_result"
        }
      ],
      "source": [
        "class_names = train_data.classes\n",
        "class_names"
      ]
    },
    {
      "cell_type": "markdown",
      "metadata": {
        "id": "GBAI2FurXc-4"
      },
      "source": [
        "### Turning images into DataLoader's"
      ]
    },
    {
      "cell_type": "code",
      "execution_count": 7,
      "metadata": {
        "id": "37JOC1qy6VND"
      },
      "outputs": [],
      "source": [
        "train_dataloader = DataLoader(dataset=train_data,\n",
        "                              batch_size=1, # how many samples per batch?\n",
        "                              shuffle=True)\n",
        "\n",
        "test_dataloader = DataLoader(dataset=test_data,\n",
        "                              batch_size=1, # how many samples per batch?\n",
        "                              shuffle=True)"
      ]
    },
    {
      "cell_type": "markdown",
      "metadata": {
        "id": "ek63FkX8YFf7"
      },
      "source": [
        "### Create a TinyVGG CNN architecture\n",
        "\n",
        "The TinyVGG architecture is a smaller and more efficient version of the VGG-16 and VGG-19 convolutional neural networks. TinyVGG has the following key features:\n",
        "\n",
        "* It uses smaller convolutional filters (3x3 instead of 5x5) and fewer convolutional layers .\n",
        "* It uses max pooling instead of average pooling.\n",
        "\n",
        "These changes make TinyVGG significantly smaller and faster than VGG-16 and VGG-19, while still maintaining good accuracy."
      ]
    },
    {
      "cell_type": "code",
      "execution_count": 31,
      "metadata": {
        "id": "7DgRyVrb6XWE"
      },
      "outputs": [],
      "source": [
        "class TinyVGG(nn.Module):\n",
        "\n",
        "    def __init__(self, input_shape: int, hidden_units: int, output_shape: int) -> None:\n",
        "        super().__init__()\n",
        "        self.conv_block_1 = nn.Sequential(\n",
        "            nn.Conv2d(in_channels=input_shape,\n",
        "                      out_channels=hidden_units,\n",
        "                      kernel_size=3, # how big is the square that's going over the image?\n",
        "                      stride=1, # default\n",
        "                      padding=1), # options = \"valid\" (no padding) or \"same\" (output has same shape as input) or int for specific number\n",
        "            nn.BatchNorm2d(hidden_units),\n",
        "            nn.ReLU(),\n",
        "            nn.Conv2d(in_channels=hidden_units,\n",
        "                      out_channels=hidden_units,\n",
        "                      kernel_size=3,\n",
        "                      stride=1,\n",
        "                      padding=1),\n",
        "            nn.BatchNorm2d(hidden_units),\n",
        "            nn.ReLU(),\n",
        "            nn.MaxPool2d(kernel_size=2,\n",
        "                         stride=2) # default stride value is same as kernel_size\n",
        "        )\n",
        "        self.conv_block_2 = nn.Sequential(\n",
        "            nn.Conv2d(hidden_units, hidden_units, kernel_size=3, padding=1),\n",
        "            nn.BatchNorm2d(hidden_units),\n",
        "            nn.ReLU(),\n",
        "            nn.Conv2d(hidden_units, hidden_units, kernel_size=3, padding=1),\n",
        "            nn.BatchNorm2d(hidden_units),\n",
        "            nn.ReLU(),\n",
        "            nn.MaxPool2d(2)\n",
        "        )\n",
        "        #self.conv_block_3 = nn.Sequential(\n",
        "        #    nn.Conv2d(hidden_units, hidden_units, kernel_size=3, padding=1),\n",
        "        #    nn.BatchNorm2d(hidden_units),\n",
        "        #    nn.ReLU(),\n",
        "        #    nn.MaxPool2d(2)\n",
        "        #)\n",
        "        self.classifier = nn.Sequential(\n",
        "            nn.Flatten(),\n",
        "            nn.Linear(in_features=hidden_units*64*64,\n",
        "                      out_features=output_shape)\n",
        "        )\n",
        "\n",
        "    def forward(self, x: torch.Tensor):\n",
        "        x = self.conv_block_1(x)\n",
        "        x = self.conv_block_2(x)\n",
        "        #x = self.conv_block_3(x)\n",
        "        x = self.classifier(x)\n",
        "\n",
        "        return x"
      ]
    },
    {
      "cell_type": "markdown",
      "metadata": {
        "id": "dfWd2BVCaGRE"
      },
      "source": [
        "### Training & Test Step"
      ]
    },
    {
      "cell_type": "code",
      "execution_count": 32,
      "metadata": {
        "id": "RujAqEki6auH"
      },
      "outputs": [],
      "source": [
        "def train_step(model: torch.nn.Module,\n",
        "               dataloader: torch.utils.data.DataLoader,\n",
        "               loss_fn: torch.nn.Module,\n",
        "               optimizer: torch.optim.Optimizer):\n",
        "    # Put model in train mode\n",
        "    model.train()\n",
        "\n",
        "    # Setup train loss and train accuracy values\n",
        "    train_loss, train_acc = 0, 0\n",
        "    #m = nn.Dropout(p=0.2)\n",
        "\n",
        "    # Loop through data loader data batches\n",
        "    for batch, (X, y) in enumerate(dataloader):\n",
        "        # Send data to target device\n",
        "        X, y = X.to(device), y.to(device)\n",
        "\n",
        "        # Forward pass\n",
        "        y_pred = model(X)\n",
        "\n",
        "        # Calculate  and accumulate loss\n",
        "        loss = loss_fn(y_pred, y)\n",
        "        train_loss += loss.item()\n",
        "\n",
        "        # Optimizer zero grad\n",
        "        optimizer.zero_grad()\n",
        "\n",
        "        # Loss backward\n",
        "        loss.backward()\n",
        "\n",
        "        # Optimizer step\n",
        "        optimizer.step()\n",
        "\n",
        "        # Calculate and accumulate accuracy metric across all batches\n",
        "        y_pred_class = torch.argmax(torch.softmax(y_pred, dim=1), dim=1)\n",
        "        train_acc += (y_pred_class == y).sum().item()/len(y_pred)\n",
        "\n",
        "    # Adjust metrics to get average loss and accuracy per batch\n",
        "    train_loss = (train_loss / len(dataloader)) * 100\n",
        "    train_acc = (train_acc / len(dataloader)) * 100\n",
        "    return train_loss, train_acc\n",
        "\n",
        "def test_step(model: torch.nn.Module,\n",
        "              dataloader: torch.utils.data.DataLoader,\n",
        "              loss_fn: torch.nn.Module):\n",
        "    # Put model in eval mode\n",
        "    model.eval()\n",
        "\n",
        "    # Setup test loss and test accuracy values\n",
        "    test_loss, test_acc = 0, 0\n",
        "\n",
        "    with torch.inference_mode():\n",
        "        for batch, (X, y) in enumerate(dataloader):\n",
        "\n",
        "            X, y = X.to(device), y.to(device)\n",
        "\n",
        "            # Forward pass\n",
        "            test_pred_logits = model(X)\n",
        "\n",
        "            # Calculate and accumulate loss\n",
        "            loss = loss_fn(test_pred_logits, y)\n",
        "            test_loss += loss.item()\n",
        "\n",
        "            # Calculate and accumulate accuracy\n",
        "            test_pred_labels = test_pred_logits.argmax(dim=1)\n",
        "            test_acc += ((test_pred_labels == y).sum().item()/len(test_pred_labels))\n",
        "\n",
        "    test_loss = (test_loss / len(dataloader)) * 100\n",
        "    test_acc = (test_acc / len(dataloader)) * 100\n",
        "\n",
        "    return test_loss, test_acc"
      ]
    },
    {
      "cell_type": "markdown",
      "metadata": {
        "id": "ou4qzAb9aSVc"
      },
      "source": [
        "### Train & Test Model"
      ]
    },
    {
      "cell_type": "code",
      "execution_count": 33,
      "metadata": {
        "id": "S47sqvHU6dKl"
      },
      "outputs": [],
      "source": [
        "def train(model: torch.nn.Module,\n",
        "          train_dataloader: torch.utils.data.DataLoader,\n",
        "          test_dataloader: torch.utils.data.DataLoader,\n",
        "          optimizer: torch.optim.Optimizer,\n",
        "          loss_fn: torch.nn.Module = nn.CrossEntropyLoss(),\n",
        "          epochs: int = 5):\n",
        "\n",
        "\n",
        "    results = {\"train_loss\": [],\n",
        "        \"train_acc\": [],\n",
        "        \"test_loss\": [],\n",
        "        \"test_acc\": []\n",
        "    }\n",
        "\n",
        "    # Loop through training and testing steps for a number of epochs\n",
        "    for epoch in range(epochs):\n",
        "        train_loss, train_acc = train_step(model=model,\n",
        "                                           dataloader=train_dataloader,\n",
        "                                           loss_fn=loss_fn,\n",
        "                                           optimizer=optimizer)\n",
        "        test_loss, test_acc = test_step(model=model,\n",
        "                                        dataloader=test_dataloader,\n",
        "                                        loss_fn=loss_fn)\n",
        "\n",
        "\n",
        "        print(\n",
        "            f\"Epoch: {epoch+1} | \"\n",
        "            f\"train_loss: {train_loss:.2f}% | \"\n",
        "            f\"train_acc: {train_acc:.2f}% | \"\n",
        "            f\"test_loss: {test_loss:.2f}% | \"\n",
        "            f\"test_acc: {test_acc:.2f}%\"\n",
        "        )\n",
        "\n",
        "\n",
        "        results[\"train_loss\"].append(train_loss)\n",
        "        results[\"train_acc\"].append(train_acc)\n",
        "        results[\"test_loss\"].append(test_loss)\n",
        "        results[\"test_acc\"].append(test_acc)\n",
        "\n",
        "    return results\n"
      ]
    },
    {
      "cell_type": "markdown",
      "metadata": {
        "id": "XSRVSaR2YmLl"
      },
      "source": [
        "### Initialize the model, loss function and optimizer\n",
        "\n",
        "1. loss function(Cross-entropy loss)\n",
        "\n",
        "  * Cross-entropy loss is a loss function used in machine learning to measure the performance of a classification model.\n",
        "  * It measures the difference between the predicted probability distribution of a machine learning classification model and the true probability distribution."
      ]
    },
    {
      "cell_type": "code",
      "execution_count": 35,
      "metadata": {
        "id": "nEAhG_Jb6f9f"
      },
      "outputs": [],
      "source": [
        "torch.manual_seed(42)\n",
        "torch.cuda.manual_seed(42)\n",
        "\n",
        "# Set number of epochs\n",
        "NUM_EPOCHS = 16\n",
        "\n",
        "model_0 = TinyVGG(input_shape=3, # number of color channels\n",
        "                  hidden_units=8,\n",
        "                  output_shape=len(train_data.classes)).to(device)\n",
        "\n",
        "loss_fn = nn.CrossEntropyLoss()\n",
        "optimizer = torch.optim.Adam(params=model_0.parameters(), lr=0.001)\n",
        "\n"
      ]
    },
    {
      "cell_type": "markdown",
      "metadata": {
        "id": "VSJUyIrAYt_l"
      },
      "source": [
        "### Train Model"
      ]
    },
    {
      "cell_type": "code",
      "execution_count": 36,
      "metadata": {
        "colab": {
          "base_uri": "https://localhost:8080/"
        },
        "id": "wtvW2qvQ6hT5",
        "outputId": "e0463a81-d4f2-4172-9e0e-cb3793f1f579"
      },
      "outputs": [
        {
          "name": "stdout",
          "output_type": "stream",
          "text": [
            "Epoch: 1 | train_loss: 242.5188 | train_acc: 59.6730 | test_loss: 72.8758 | test_acc: 58.8235\n",
            "Epoch: 2 | train_loss: 68.4301 | train_acc: 66.8937 | test_loss: 84.1344 | test_acc: 50.2674\n",
            "Epoch: 3 | train_loss: 53.4334 | train_acc: 74.2507 | test_loss: 76.6730 | test_acc: 56.6845\n",
            "Epoch: 4 | train_loss: 50.4922 | train_acc: 77.1117 | test_loss: 87.1322 | test_acc: 55.0802\n",
            "Epoch: 5 | train_loss: 44.0521 | train_acc: 79.9728 | test_loss: 74.5628 | test_acc: 59.3583\n",
            "Epoch: 6 | train_loss: 44.0470 | train_acc: 82.1526 | test_loss: 74.5398 | test_acc: 56.6845\n",
            "Epoch: 7 | train_loss: 35.1206 | train_acc: 85.8311 | test_loss: 104.7344 | test_acc: 57.2193\n",
            "Epoch: 8 | train_loss: 33.6877 | train_acc: 87.7384 | test_loss: 136.2298 | test_acc: 58.8235\n",
            "Epoch: 9 | train_loss: 25.0357 | train_acc: 90.8719 | test_loss: 155.7790 | test_acc: 57.2193\n",
            "Epoch: 10 | train_loss: 25.7947 | train_acc: 90.7357 | test_loss: 140.1927 | test_acc: 59.8930\n",
            "Epoch: 11 | train_loss: 20.3195 | train_acc: 93.5967 | test_loss: 169.1786 | test_acc: 58.8235\n",
            "Epoch: 12 | train_loss: 17.9200 | train_acc: 94.4142 | test_loss: 104.8847 | test_acc: 56.6845\n",
            "Epoch: 13 | train_loss: 15.2619 | train_acc: 95.3678 | test_loss: 128.3570 | test_acc: 58.2888\n",
            "Epoch: 14 | train_loss: 10.2349 | train_acc: 97.4114 | test_loss: 133.6476 | test_acc: 59.8930\n",
            "Epoch: 15 | train_loss: 11.8338 | train_acc: 97.8202 | test_loss: 127.5241 | test_acc: 58.8235\n",
            "Epoch: 16 | train_loss: 9.3689 | train_acc: 98.3651 | test_loss: 167.8340 | test_acc: 58.2888\n"
          ]
        }
      ],
      "source": [
        "model_0_results = train(model=model_0,\n",
        "                        train_dataloader=train_dataloader,\n",
        "                        test_dataloader=test_dataloader,\n",
        "                        optimizer=optimizer,\n",
        "                        loss_fn=loss_fn,\n",
        "                        epochs=NUM_EPOCHS)"
      ]
    },
    {
      "cell_type": "markdown",
      "metadata": {},
      "source": [
        "# Plotting Loss Curves"
      ]
    },
    {
      "cell_type": "code",
      "execution_count": 40,
      "metadata": {},
      "outputs": [
        {
          "data": {
            "image/png": "[encoded data removed]",
            "text/plain": [
              "<Figure size 640x480 with 1 Axes>"
            ]
          },
          "metadata": {},
          "output_type": "display_data"
        }
      ],
      "source": [
        "plt.plot(range(NUM_EPOCHS),model_0_results[\"train_loss\"])\n",
        "plt.plot(range(NUM_EPOCHS),model_0_results[\"test_loss\"])\n",
        "plt.xlabel('Epoch')\n",
        "plt.ylabel('Loss')\n",
        "plt.legend([\"Train Loss\", \"Test Loss\"])\n",
        "plt.show()"
      ]
    },
    {
      "cell_type": "markdown",
      "metadata": {
        "id": "f96--wZ_Rrn8"
      },
      "source": [
        "## Testing model on custom data"
      ]
    },
    {
      "cell_type": "code",
      "execution_count": 55,
      "metadata": {
        "colab": {
          "base_uri": "https://localhost:8080/"
        },
        "id": "snZ-kMxHRBPj",
        "outputId": "3bcadb16-0935-49e5-a72e-be3702b7a4a0"
      },
      "outputs": [
        {
          "name": "stdout",
          "output_type": "stream",
          "text": [
            "human\n"
          ]
        }
      ],
      "source": [
        "#custom_image_path = \"data\\Sample-Image-captured-by-CCTV-camera.png\"\n",
        "custom_image_path = \"data\\\\2015-04-02_18_21.JPG\"\n",
        "\n",
        "custom_image = torchvision.io.read_image(str(custom_image_path), mode=ImageReadMode.RGB).type(torch.float32)\n",
        "\n",
        "#Divide the image pixel values by 255 to get them between [0, 1]\n",
        "custom_image = custom_image / 255\n",
        "custom_image_transform = transforms.Compose([\n",
        "    transforms.Resize((256, 256)),\n",
        "])\n",
        "\n",
        "# Transform target image\n",
        "custom_image_transformed = custom_image_transform(custom_image)\n",
        "\n",
        "model_0.eval()\n",
        "with torch.inference_mode():\n",
        "    custom_image_transformed_with_batch_size = custom_image_transformed.unsqueeze(dim=0)\n",
        "    custom_image_pred = model_0(custom_image_transformed.unsqueeze(dim=0).to(device))\n",
        "\n",
        "custom_image_pred_probs = torch.softmax(custom_image_pred, dim=1)\n",
        "custom_image_pred_label = torch.argmax(custom_image_pred_probs, dim=1)\n",
        "custom_image_pred_class = class_names[custom_image_pred_label.cpu()]\n",
        "\n",
        "print(custom_image_pred_class)"
      ]
    }
  ],
  "metadata": {
    "accelerator": "GPU",
    "colab": {
      "gpuType": "T4",
      "provenance": []
    },
    "kernelspec": {
      "display_name": "Python 3",
      "name": "python3"
    },
    "language_info": {
      "codemirror_mode": {
        "name": "ipython",
        "version": 3
      },
      "file_extension": ".py",
      "mimetype": "text/x-python",
      "name": "python",
      "nbconvert_exporter": "python",
      "pygments_lexer": "ipython3",
      "version": "3.10.7"
    }
  },
  "nbformat": 4,
  "nbformat_minor": 0
}
